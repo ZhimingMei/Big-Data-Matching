{
 "cells": [
  {
   "cell_type": "code",
   "execution_count": 3,
   "metadata": {},
   "outputs": [],
   "source": [
    "import os\n",
    "\n",
    "import pandas as pd\n",
    "import numpy as np\n",
    "\n",
    "\n",
    "from multiprocessing import cpu_count\n",
    "from string_grouper import match_strings\n",
    "\n",
    "ncpu=cpu_count()"
   ]
  },
  {
   "cell_type": "code",
   "execution_count": 4,
   "metadata": {},
   "outputs": [
    {
     "name": "stdout",
     "output_type": "stream",
     "text": [
      "it takes 2 seconds for size 10000\n",
      "it takes 21 seconds for size 50000\n",
      "it takes 65 seconds for size 100000\n",
      "it takes 1272 seconds for size 500000\n"
     ]
    }
   ],
   "source": [
    "nums = [10000, 50000, 100000, 500000]\n",
    "\n",
    "for num in nums:\n",
    "\n",
    "    data_path = 'PATH'\n",
    "    os.chdir(data_path)\n",
    "    df_l = pd.read_csv('left_sample_1m.csv', nrows=num)\n",
    "    df_r = pd.read_csv('right_sample_1m.csv', nrows=num)\n",
    "\n",
    "    # benchs = pd.read_csv('fuzzy_match_benchmark.csv', nrows=1000)\n",
    "\n",
    "    import time as tm\n",
    "\n",
    "    t0=tm.time()\n",
    "    namepair=match_strings(df_l['company_cleaned_std'], df_r['compname_std'], max_n_matches=5, \n",
    "                        min_similarity=0.3,ignore_index=True,n_blocks=(1,8),number_of_processes=1)\n",
    "\n",
    "    t1=tm.time()\n",
    "    nos=int((t1-t0))\n",
    "    print(f'it takes {nos} seconds for size {num}')"
   ]
  }
 ],
 "metadata": {
  "kernelspec": {
   "display_name": "base",
   "language": "python",
   "name": "python3"
  },
  "language_info": {
   "codemirror_mode": {
    "name": "ipython",
    "version": 3
   },
   "file_extension": ".py",
   "mimetype": "text/x-python",
   "name": "python",
   "nbconvert_exporter": "python",
   "pygments_lexer": "ipython3",
   "version": "3.8.8"
  },
  "orig_nbformat": 4
 },
 "nbformat": 4,
 "nbformat_minor": 2
}
