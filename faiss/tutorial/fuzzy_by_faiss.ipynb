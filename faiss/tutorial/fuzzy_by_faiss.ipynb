{
 "cells": [
  {
   "cell_type": "code",
   "execution_count": 95,
   "metadata": {},
   "outputs": [],
   "source": [
    "import pandas as pd\n",
    "import os\n",
    "import faiss\n",
    "\n",
    "from sentence_transformers import SentenceTransformer"
   ]
  },
  {
   "attachments": {},
   "cell_type": "markdown",
   "metadata": {},
   "source": [
    "### data preparation"
   ]
  },
  {
   "cell_type": "code",
   "execution_count": 96,
   "metadata": {},
   "outputs": [],
   "source": [
    "data_path = 'PATH'\n",
    "os.chdir(data_path)\n",
    "df_l = pd.read_csv('linkedin_sample.csv', nrows=100000)\n",
    "df_r = pd.read_csv('burning_glass_sample.csv', nrows=100000)\n",
    "\n",
    "# benchs = pd.read_csv('fuzzy_match_benchmark.csv', nrows=1000)"
   ]
  },
  {
   "cell_type": "code",
   "execution_count": 97,
   "metadata": {},
   "outputs": [],
   "source": [
    "# decreasing the query dataset"
   ]
  },
  {
   "attachments": {},
   "cell_type": "markdown",
   "metadata": {},
   "source": [
    "### convert text to vectors\n",
    "- we have other methods\n",
    "- to be implemented..."
   ]
  },
  {
   "cell_type": "code",
   "execution_count": 98,
   "metadata": {},
   "outputs": [],
   "source": [
    "def text2vec(df, col_name):\n",
    "    text = df[col_name]\n",
    "    encoder = SentenceTransformer('paraphrase-mpnet-base-v2')\n",
    "    vectors = encoder.encode(text)\n",
    "    return vectors"
   ]
  },
  {
   "cell_type": "code",
   "execution_count": 99,
   "metadata": {},
   "outputs": [],
   "source": [
    "xb1 = text2vec(df_l, 'company_cleaned_std')\n",
    "xq1 = text2vec(df_r, 'compname_std')"
   ]
  },
  {
   "attachments": {},
   "cell_type": "markdown",
   "metadata": {},
   "source": [
    "### search based on faiss"
   ]
  },
  {
   "cell_type": "code",
   "execution_count": 100,
   "metadata": {},
   "outputs": [],
   "source": [
    "n, d = xb1.shape\n",
    "nlist = 100\n",
    "k = 4\n",
    "quantizer = faiss.IndexFlatL2(d)  # the other index\n",
    "index = faiss.IndexIVFFlat(quantizer, d, nlist, faiss.METRIC_L2)"
   ]
  },
  {
   "cell_type": "code",
   "execution_count": 101,
   "metadata": {},
   "outputs": [],
   "source": [
    "assert not index.is_trained\n",
    "index.train(xb1)\n",
    "assert index.is_trained"
   ]
  },
  {
   "cell_type": "code",
   "execution_count": 102,
   "metadata": {},
   "outputs": [],
   "source": [
    "index.add(xb1)                  # add may be a bit slower as well\n",
    "D, I = index.search(xq1, k)     # actual search            "
   ]
  },
  {
   "cell_type": "code",
   "execution_count": null,
   "metadata": {},
   "outputs": [],
   "source": [
    "results = pd.DataFrame(I, columns=['index_1', 'index_2', 'index_3', 'index_4']) # this index number depends on parameter *k*\n",
    "\n",
    "results['init_name'] = df_r['compname_std']\n",
    "\n",
    "df_l['index_1'] = df_l.index\n",
    "df_l['index_2'] = df_l.index\n",
    "df_l['index_3'] = df_l.index\n",
    "df_l['index_4'] = df_l.index\n",
    "\n",
    "for i in range(1,5):\n",
    "    results = pd.merge(results, df_l[[f'index_{i}', 'company_cleaned_std']], on=f'index_{i}', how='left')\n",
    "\n",
    "# generate the fuzzy matching results\n",
    "results.drop(['index_1', 'index_2', 'index_3', 'index_4'], inplace=True, axis=1)\n",
    "results"
   ]
  }
 ],
 "metadata": {
  "kernelspec": {
   "display_name": "base",
   "language": "python",
   "name": "python3"
  },
  "language_info": {
   "codemirror_mode": {
    "name": "ipython",
    "version": 3
   },
   "file_extension": ".py",
   "mimetype": "text/x-python",
   "name": "python",
   "nbconvert_exporter": "python",
   "pygments_lexer": "ipython3",
   "version": "3.8.8"
  },
  "orig_nbformat": 4
 },
 "nbformat": 4,
 "nbformat_minor": 2
}
