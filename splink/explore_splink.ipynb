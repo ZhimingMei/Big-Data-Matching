{
 "cells": [
  {
   "cell_type": "code",
   "execution_count": 1,
   "id": "b0454ab9",
   "metadata": {
    "pycharm": {
     "name": "#%%\n"
    }
   },
   "outputs": [],
   "source": [
    "from splink.duckdb.duckdb_linker import DuckDBLinker\n",
    "from splink.spark.spark_linker import SparkLinker\n",
    "from splink.duckdb.duckdb_comparison_library import (\n",
    "    exact_match,\n",
    "    levenshtein_at_thresholds,\n",
    "    datediff_at_thresholds,\n",
    "    jaccard_at_thresholds,\n",
    "    jaro_winkler_at_thresholds,\n",
    ")\n",
    "from splink.spark.spark_comparison_template_library import (\n",
    "    name_comparison,\n",
    ")\n",
    "from splink.spark.spark_comparison_library import (\n",
    "    datediff_at_thresholds,\n",
    ")\n",
    "\n",
    "import pandas as pd"
   ]
  },
  {
   "cell_type": "code",
   "execution_count": 5,
   "id": "66142643",
   "metadata": {
    "pycharm": {
     "name": "#%%\n"
    }
   },
   "outputs": [],
   "source": [
    "df1 = pd.read_excel('ENTER PATH HERE')\n",
    "df2 = pd.read_excel('ENTER PATH HERE')"
   ]
  },
  {
   "cell_type": "code",
   "execution_count": 2,
   "id": "31ed77a0",
   "metadata": {
    "pycharm": {
     "name": "#%%\n"
    }
   },
   "outputs": [],
   "source": [
    "vlist = ['country','state','jobtitle','company_cleaned','startdate','enddate']\n",
    "df = pd.read_csv('ENTER PATH HERE')[vlist]"
   ]
  },
  {
   "cell_type": "code",
   "execution_count": 3,
   "id": "684f49ad",
   "metadata": {
    "pycharm": {
     "name": "#%%\n"
    }
   },
   "outputs": [],
   "source": [
    "df = df.loc[(df.country!='empty') & (df.state!='empty'),:].reset_index(drop=False)"
   ]
  },
  {
   "cell_type": "code",
   "execution_count": null,
   "id": "29b601b0",
   "metadata": {
    "pycharm": {
     "name": "#%%\n"
    }
   },
   "outputs": [],
   "source": [
    "#step1: specify a linkage model\n",
    "settings = {\n",
    "    \"unique_id_column_name\": \"index\",\n",
    "    \"link_type\": \"link_only\", \n",
    "    \"comparisons\": [\n",
    "        name_comparison(\"jobtitle\"),\n",
    "        name_comparison(\"company_cleaned\"),\n",
    "        datediff_at_thresholds(\"startdate\"),\n",
    "        datediff_at_thresholds(\"enddate\"),\n",
    "    ],\n",
    "    \"blocking_rules_to_generate_predictions\": [\n",
    "        \"l.country = r.country\" and \"l.state = r.state\",\n",
    "    ],\n",
    "    \"retain_matching_columns\": True,\n",
    "    \"retain_intermediate_calculation_columns\": True,\n",
    "}\n",
    "linker = SparkLinker(df, settings)"
   ]
  },
  {
   "cell_type": "code",
   "execution_count": 108,
   "id": "2dbce11f",
   "metadata": {
    "pycharm": {
     "name": "#%%\n"
    }
   },
   "outputs": [
    {
     "name": "stderr",
     "output_type": "stream",
     "text": [
      "----- Estimating u probabilities using random sampling -----\n",
      "u probability not trained for jobtitle - Exact match (comparison vector value: 3). This usually means the comparison level was never observed in the training data.\n",
      "u probability not trained for jobtitle - Levenshtein <= 1 (comparison vector value: 2). This usually means the comparison level was never observed in the training data.\n",
      "u probability not trained for jobtitle - Levenshtein <= 2 (comparison vector value: 1). This usually means the comparison level was never observed in the training data.\n",
      "u probability not trained for company_cleaned - Exact match (comparison vector value: 3). This usually means the comparison level was never observed in the training data.\n",
      "u probability not trained for company_cleaned - Levenshtein <= 1 (comparison vector value: 2). This usually means the comparison level was never observed in the training data.\n",
      "u probability not trained for company_cleaned - Levenshtein <= 2 (comparison vector value: 1). This usually means the comparison level was never observed in the training data.\n",
      "\n",
      "Estimated u probabilities using random sampling\n",
      "\n",
      "Your model is not yet fully trained. Missing estimates for:\n",
      "    - jobtitle (some u values are not trained, no m values are trained).\n",
      "    - company_cleaned (some u values are not trained, no m values are trained).\n",
      "    - startdate (no m values are trained).\n",
      "    - enddate (no m values are trained).\n"
     ]
    }
   ],
   "source": [
    "###estimate u parameter\n",
    "linker.estimate_u_using_random_sampling(max_pairs=1000)"
   ]
  },
  {
   "cell_type": "code",
   "execution_count": 94,
   "id": "8936be9c",
   "metadata": {
    "pycharm": {
     "name": "#%%\n"
    }
   },
   "outputs": [
    {
     "name": "stderr",
     "output_type": "stream",
     "text": [
      "\n",
      "----- Starting EM training session -----\n",
      "\n",
      "Estimating the m probabilities of the model by blocking on:\n",
      "l.country = r.country and l.state = r.state\n",
      "\n",
      "Parameter estimates will be made for the following comparison(s):\n",
      "    - jobtitle\n",
      "    - company_cleaned\n",
      "    - startdate\n",
      "    - enddate\n",
      "\n",
      "Parameter estimates cannot be made for the following comparison(s) since they are used in the blocking rules: \n",
      "\n",
      "Iteration 1: Largest change in params was -0.459 in the m_probability of startdate, level `Exact match`\n",
      "Iteration 2: Largest change in params was -0.361 in the m_probability of enddate, level `Exact match`\n",
      "Iteration 3: Largest change in params was 0.183 in the m_probability of company_cleaned, level `All other comparisons`\n",
      "Iteration 4: Largest change in params was -0.145 in the m_probability of jobtitle, level `Exact match`\n",
      "Iteration 5: Largest change in params was 0.0943 in the m_probability of jobtitle, level `All other comparisons`\n",
      "Iteration 6: Largest change in params was 0.0647 in the m_probability of jobtitle, level `All other comparisons`\n",
      "Iteration 7: Largest change in params was 0.0372 in the m_probability of jobtitle, level `All other comparisons`\n",
      "Iteration 8: Largest change in params was 0.0192 in the m_probability of jobtitle, level `All other comparisons`\n",
      "Iteration 9: Largest change in params was 0.00923 in the m_probability of jobtitle, level `All other comparisons`\n",
      "Iteration 10: Largest change in params was 0.00639 in the m_probability of startdate, level `All other comparisons`\n",
      "Iteration 11: Largest change in params was 0.00574 in the m_probability of startdate, level `All other comparisons`\n",
      "Iteration 12: Largest change in params was 0.00502 in the m_probability of startdate, level `All other comparisons`\n",
      "Iteration 13: Largest change in params was 0.00433 in the m_probability of startdate, level `All other comparisons`\n",
      "Iteration 14: Largest change in params was 0.00373 in the m_probability of startdate, level `All other comparisons`\n",
      "Iteration 15: Largest change in params was 0.00321 in the m_probability of startdate, level `All other comparisons`\n",
      "Iteration 16: Largest change in params was 0.00278 in the m_probability of startdate, level `All other comparisons`\n",
      "Iteration 17: Largest change in params was 0.0024 in the m_probability of startdate, level `All other comparisons`\n",
      "Iteration 18: Largest change in params was 0.00209 in the m_probability of startdate, level `All other comparisons`\n",
      "Iteration 19: Largest change in params was 0.00181 in the m_probability of startdate, level `All other comparisons`\n",
      "Iteration 20: Largest change in params was 0.00158 in the m_probability of startdate, level `All other comparisons`\n",
      "Iteration 21: Largest change in params was 0.00138 in the m_probability of startdate, level `All other comparisons`\n",
      "Iteration 22: Largest change in params was 0.0012 in the m_probability of startdate, level `All other comparisons`\n",
      "Iteration 23: Largest change in params was 0.00105 in the m_probability of startdate, level `All other comparisons`\n",
      "Iteration 24: Largest change in params was 0.00092 in the m_probability of startdate, level `All other comparisons`\n",
      "Iteration 25: Largest change in params was 0.000805 in the m_probability of startdate, level `All other comparisons`\n",
      "\n",
      "EM converged after 25 iterations\n",
      "\n",
      "Your model is fully trained. All comparisons have at least one estimate for their m and u values\n"
     ]
    },
    {
     "data": {
      "text/plain": [
       "<EMTrainingSession, blocking on l.country = r.country and l.state = r.state, deactivating comparisons >"
      ]
     },
     "execution_count": 94,
     "metadata": {},
     "output_type": "execute_result"
    }
   ],
   "source": [
    "# estimate m parameter\n",
    "blocking_rule_for_training = \"l.country = r.country and l.state = r.state\"\n",
    "linker.estimate_parameters_using_expectation_maximisation(blocking_rule_for_training)"
   ]
  },
  {
   "cell_type": "code",
   "execution_count": null,
   "id": "96a6df8b",
   "metadata": {
    "pycharm": {
     "name": "#%%\n"
    }
   },
   "outputs": [],
   "source": [
    "# predict linkage\n",
    "df_predictions = linker.predict(threshold_match_probability=0.5)\n",
    "df_predictions.as_pandas_dataframe(limit=50)"
   ]
  },
  {
   "cell_type": "code",
   "execution_count": null,
   "id": "f5c53a31",
   "metadata": {
    "pycharm": {
     "name": "#%%\n"
    }
   },
   "outputs": [],
   "source": [
    "# samples\n",
    "linker.estimate_u_using_random_sampling(max_pairs=1e6)\n",
    "\n",
    "blocking_rule_for_training = \"l.first_name = r.first_name and l.surname = r.surname\"\n",
    "linker.estimate_parameters_using_expectation_maximisation(blocking_rule_for_training)\n",
    "\n",
    "blocking_rule_for_training = \"l.dob = r.dob\"\n",
    "linker.estimate_parameters_using_expectation_maximisation(blocking_rule_for_training)\n",
    "\n",
    "pairwise_predictions = linker.predict()\n",
    "\n",
    "clusters = linker.cluster_pairwise_predictions_at_threshold(pairwise_predictions, 0.95)\n",
    "clusters.as_pandas_dataframe(limit=5)"
   ]
  }
 ],
 "metadata": {
  "kernelspec": {
   "display_name": "Python 3 (ipykernel)",
   "language": "python",
   "name": "python3"
  },
  "language_info": {
   "codemirror_mode": {
    "name": "ipython",
    "version": 3
   },
   "file_extension": ".py",
   "mimetype": "text/x-python",
   "name": "python",
   "nbconvert_exporter": "python",
   "pygments_lexer": "ipython3",
   "version": "3.9.12"
  }
 },
 "nbformat": 4,
 "nbformat_minor": 5
}